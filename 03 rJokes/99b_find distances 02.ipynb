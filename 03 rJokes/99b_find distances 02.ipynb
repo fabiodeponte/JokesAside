{
 "cells": [
  {
   "cell_type": "markdown",
   "id": "435f6559-cd65-4bce-92a6-0a0ae28a18b7",
   "metadata": {},
   "source": [
    "### Sentences in lists:"
   ]
  },
  {
   "cell_type": "code",
   "execution_count": 172,
   "id": "52d7fbb6-aa63-4a4e-8416-e47a7ab5b25c",
   "metadata": {},
   "outputs": [],
   "source": [
    "import matplotlib.pyplot as plt\n",
    "from mpl_toolkits.mplot3d import Axes3D\n",
    "import numpy as np\n",
    "from transformers import AutoTokenizer, AutoModel\n",
    "import torch\n",
    "from huggingface_hub import login\n",
    "from sklearn.decomposition import PCA\n",
    "import math \n",
    "from IPython.display import Markdown, display\n",
    "import pandas as pd\n",
    "def printmd(string):\n",
    "    display(Markdown(string))"
   ]
  },
  {
   "cell_type": "code",
   "execution_count": 173,
   "id": "f63ee621-5808-41e8-a956-4028dc836639",
   "metadata": {},
   "outputs": [],
   "source": [
    "df = pd.read_csv('only_true_jokes_CSVs/selection/final_clean_jokes_with_rating_and_test_sentences.csv')\n"
   ]
  },
  {
   "cell_type": "code",
   "execution_count": 174,
   "id": "a10d1cfc-76e5-4c88-843b-4087f1bc1245",
   "metadata": {},
   "outputs": [
    {
     "data": {
      "text/html": [
       "<div>\n",
       "<style scoped>\n",
       "    .dataframe tbody tr th:only-of-type {\n",
       "        vertical-align: middle;\n",
       "    }\n",
       "\n",
       "    .dataframe tbody tr th {\n",
       "        vertical-align: top;\n",
       "    }\n",
       "\n",
       "    .dataframe thead th {\n",
       "        text-align: right;\n",
       "    }\n",
       "</style>\n",
       "<table border=\"1\" class=\"dataframe\">\n",
       "  <thead>\n",
       "    <tr style=\"text-align: right;\">\n",
       "      <th></th>\n",
       "      <th>sentence</th>\n",
       "      <th>word</th>\n",
       "      <th>explanation</th>\n",
       "      <th>first_new_sentence</th>\n",
       "      <th>second_new_sentence</th>\n",
       "      <th>score</th>\n",
       "    </tr>\n",
       "  </thead>\n",
       "  <tbody>\n",
       "    <tr>\n",
       "      <th>0</th>\n",
       "      <td>the flat earth community has supporters all ar...</td>\n",
       "      <td>globe</td>\n",
       "      <td>A globe is a spherical representation of Earth.</td>\n",
       "      <td>The teacher used a globe in class to demonstr...</td>\n",
       "      <td>The poet wrote about the beauty of the globes...</td>\n",
       "      <td>27.0</td>\n",
       "    </tr>\n",
       "    <tr>\n",
       "      <th>1</th>\n",
       "      <td>what do you call a basement full of redditors?...</td>\n",
       "      <td>cellar</td>\n",
       "      <td>A cellar is a room below ground level used fo...</td>\n",
       "      <td>They kept the canned goods in the cellar to p...</td>\n",
       "      <td>The wine was stored in a cellar to age properly.</td>\n",
       "      <td>51.0</td>\n",
       "    </tr>\n",
       "    <tr>\n",
       "      <th>2</th>\n",
       "      <td>why did the tennis player get thrown out of hi...</td>\n",
       "      <td>racket</td>\n",
       "      <td>A racket is a sports implement used in games ...</td>\n",
       "      <td>She refused to make a racket in the library w...</td>\n",
       "      <td>He bought a new tennis racket for the tournam...</td>\n",
       "      <td>0.0</td>\n",
       "    </tr>\n",
       "    <tr>\n",
       "      <th>3</th>\n",
       "      <td>what do you call a scary horse? a night-mare.</td>\n",
       "      <td>mare</td>\n",
       "      <td>A mare is a female horse.</td>\n",
       "      <td>The mare was known for her speed and agility ...</td>\n",
       "      <td>In folklore, a mare is said to bring bad drea...</td>\n",
       "      <td>7.0</td>\n",
       "    </tr>\n",
       "    <tr>\n",
       "      <th>4</th>\n",
       "      <td>what does dr. oz do when you throw scientific ...</td>\n",
       "      <td>duck</td>\n",
       "      <td>Duck can mean a waterfowl or to lower the hea...</td>\n",
       "      <td>The duck swam across the pond gracefully.</td>\n",
       "      <td>I had to duck to avoid hitting my head on the...</td>\n",
       "      <td>11.0</td>\n",
       "    </tr>\n",
       "    <tr>\n",
       "      <th>...</th>\n",
       "      <td>...</td>\n",
       "      <td>...</td>\n",
       "      <td>...</td>\n",
       "      <td>...</td>\n",
       "      <td>...</td>\n",
       "      <td>...</td>\n",
       "    </tr>\n",
       "    <tr>\n",
       "      <th>1062</th>\n",
       "      <td>what do you call a dog with no legs and metal ...</td>\n",
       "      <td>sparky</td>\n",
       "      <td>The word sparky can mean lively or energetic,...</td>\n",
       "      <td>The young boy was known for his sparky nature...</td>\n",
       "      <td>The electrician fixed the issue causing spark...</td>\n",
       "      <td>73.0</td>\n",
       "    </tr>\n",
       "    <tr>\n",
       "      <th>1063</th>\n",
       "      <td>how do you make soup golden? you add 24 carrots.</td>\n",
       "      <td>carrots</td>\n",
       "      <td>Carrots refer to the vegetable commonly used ...</td>\n",
       "      <td>Carrots are rich in vitamins and are often in...</td>\n",
       "      <td>The farmer harvested the carrots from the fie...</td>\n",
       "      <td>24.0</td>\n",
       "    </tr>\n",
       "    <tr>\n",
       "      <th>1064</th>\n",
       "      <td>what did the blanket say as it fell off the be...</td>\n",
       "      <td>sheet</td>\n",
       "      <td>A sheet is a large rectangular piece of fabri...</td>\n",
       "      <td>I need to buy a clean sheet for the guest room.</td>\n",
       "      <td>The architect designed a sheet of glass to be...</td>\n",
       "      <td>11.0</td>\n",
       "    </tr>\n",
       "    <tr>\n",
       "      <th>1065</th>\n",
       "      <td>what do elephants use as a tampons? sheep.</td>\n",
       "      <td>sheep</td>\n",
       "      <td>Sheep are domesticated animals kept for their...</td>\n",
       "      <td>The farmer raised sheep for their wool to mak...</td>\n",
       "      <td>The ancient Greeks often depicted sheep in th...</td>\n",
       "      <td>0.0</td>\n",
       "    </tr>\n",
       "    <tr>\n",
       "      <th>1066</th>\n",
       "      <td>what do you call a stack of cats. a meowuntian</td>\n",
       "      <td>meow</td>\n",
       "      <td>a sound made by a cat</td>\n",
       "      <td>The cat let out a loud meow to get my attention.</td>\n",
       "      <td>I admired the meow from the feline as it play...</td>\n",
       "      <td>0.0</td>\n",
       "    </tr>\n",
       "  </tbody>\n",
       "</table>\n",
       "<p>1067 rows × 6 columns</p>\n",
       "</div>"
      ],
      "text/plain": [
       "                                               sentence      word  \\\n",
       "0     the flat earth community has supporters all ar...     globe   \n",
       "1     what do you call a basement full of redditors?...    cellar   \n",
       "2     why did the tennis player get thrown out of hi...    racket   \n",
       "3         what do you call a scary horse? a night-mare.      mare   \n",
       "4     what does dr. oz do when you throw scientific ...      duck   \n",
       "...                                                 ...       ...   \n",
       "1062  what do you call a dog with no legs and metal ...    sparky   \n",
       "1063   how do you make soup golden? you add 24 carrots.   carrots   \n",
       "1064  what did the blanket say as it fell off the be...     sheet   \n",
       "1065         what do elephants use as a tampons? sheep.     sheep   \n",
       "1066     what do you call a stack of cats. a meowuntian      meow   \n",
       "\n",
       "                                            explanation  \\\n",
       "0       A globe is a spherical representation of Earth.   \n",
       "1      A cellar is a room below ground level used fo...   \n",
       "2      A racket is a sports implement used in games ...   \n",
       "3                             A mare is a female horse.   \n",
       "4      Duck can mean a waterfowl or to lower the hea...   \n",
       "...                                                 ...   \n",
       "1062   The word sparky can mean lively or energetic,...   \n",
       "1063   Carrots refer to the vegetable commonly used ...   \n",
       "1064   A sheet is a large rectangular piece of fabri...   \n",
       "1065   Sheep are domesticated animals kept for their...   \n",
       "1066                              a sound made by a cat   \n",
       "\n",
       "                                     first_new_sentence  \\\n",
       "0      The teacher used a globe in class to demonstr...   \n",
       "1      They kept the canned goods in the cellar to p...   \n",
       "2      She refused to make a racket in the library w...   \n",
       "3      The mare was known for her speed and agility ...   \n",
       "4            The duck swam across the pond gracefully.    \n",
       "...                                                 ...   \n",
       "1062   The young boy was known for his sparky nature...   \n",
       "1063   Carrots are rich in vitamins and are often in...   \n",
       "1064    I need to buy a clean sheet for the guest room.   \n",
       "1065   The farmer raised sheep for their wool to mak...   \n",
       "1066   The cat let out a loud meow to get my attention.   \n",
       "\n",
       "                                    second_new_sentence  score  \n",
       "0      The poet wrote about the beauty of the globes...   27.0  \n",
       "1      The wine was stored in a cellar to age properly.   51.0  \n",
       "2      He bought a new tennis racket for the tournam...    0.0  \n",
       "3      In folklore, a mare is said to bring bad drea...    7.0  \n",
       "4      I had to duck to avoid hitting my head on the...   11.0  \n",
       "...                                                 ...    ...  \n",
       "1062   The electrician fixed the issue causing spark...   73.0  \n",
       "1063   The farmer harvested the carrots from the fie...   24.0  \n",
       "1064   The architect designed a sheet of glass to be...   11.0  \n",
       "1065   The ancient Greeks often depicted sheep in th...    0.0  \n",
       "1066   I admired the meow from the feline as it play...    0.0  \n",
       "\n",
       "[1067 rows x 6 columns]"
      ]
     },
     "execution_count": 174,
     "metadata": {},
     "output_type": "execute_result"
    }
   ],
   "source": [
    "df"
   ]
  },
  {
   "cell_type": "code",
   "execution_count": 175,
   "id": "d676b9aa-2b60-422a-beb2-4bf3cd05d816",
   "metadata": {},
   "outputs": [
    {
     "data": {
      "text/plain": [
       "1067"
      ]
     },
     "execution_count": 175,
     "metadata": {},
     "output_type": "execute_result"
    }
   ],
   "source": [
    "len(df)"
   ]
  },
  {
   "cell_type": "code",
   "execution_count": 176,
   "id": "870dd9ff-054d-4f33-9ce5-2cd071b4495e",
   "metadata": {},
   "outputs": [],
   "source": [
    "all_sentences=[]"
   ]
  },
  {
   "cell_type": "code",
   "execution_count": 177,
   "id": "18100697-a0d3-4f79-9a8c-fffd4c31552c",
   "metadata": {},
   "outputs": [],
   "source": [
    "for i in range(5):\n",
    "    all_sentences.append([df.iloc[i]['word'].strip(), [\n",
    "        df.iloc[i]['sentence'].strip(),\n",
    "        df.iloc[i]['first_new_sentence'].strip(),\n",
    "        df.iloc[i]['second_new_sentence'].strip()\n",
    "    ]])"
   ]
  },
  {
   "cell_type": "code",
   "execution_count": 178,
   "id": "b03a5601-a472-4d56-a8fc-c903fe4a37b0",
   "metadata": {},
   "outputs": [
    {
     "data": {
      "text/plain": [
       "[['globe',\n",
       "  ['the flat earth community has supporters all around the globe.',\n",
       "   'The teacher used a globe in class to demonstrate the worlds geography.',\n",
       "   'The poet wrote about the beauty of the globes nature and landscapes.']],\n",
       " ['cellar',\n",
       "  ['what do you call a basement full of redditors? a wine cellar.',\n",
       "   'They kept the canned goods in the cellar to preserve them.',\n",
       "   'The wine was stored in a cellar to age properly.']],\n",
       " ['racket',\n",
       "  ['why did the tennis player get thrown out of his workshop? he was making a racket.',\n",
       "   'She refused to make a racket in the library while studying.',\n",
       "   'He bought a new tennis racket for the tournament next week.']],\n",
       " ['mare',\n",
       "  ['what do you call a scary horse? a night-mare.',\n",
       "   'The mare was known for her speed and agility on the track.',\n",
       "   'In folklore, a mare is said to bring bad dreams to sleeping individuals.']],\n",
       " ['duck',\n",
       "  ['what does dr. oz do when you throw scientific evidence at his head? ducks like a quack.',\n",
       "   'The duck swam across the pond gracefully.',\n",
       "   'I had to duck to avoid hitting my head on the low ceiling.']]]"
      ]
     },
     "execution_count": 178,
     "metadata": {},
     "output_type": "execute_result"
    }
   ],
   "source": [
    "all_sentences"
   ]
  },
  {
   "cell_type": "raw",
   "id": "ec6c3983-6228-4c43-b977-513a62869fad",
   "metadata": {},
   "source": [
    "all_sentences = [\n",
    "    [df.iloc[0]['word'].strip(), [\n",
    "        df.iloc[0]['sentence'].strip(),\n",
    "        df.iloc[0]['first_new_sentence'].strip(),\n",
    "        df.iloc[0]['second_new_sentence'].strip()\n",
    "    ]]]"
   ]
  },
  {
   "cell_type": "code",
   "execution_count": 179,
   "id": "4ae56c9a-16fe-47a0-a12a-bda085bc264e",
   "metadata": {},
   "outputs": [],
   "source": [
    "#huggingface_token = ...\n",
    "login(token=huggingface_token)\n",
    "\n",
    "tokenizer = AutoTokenizer.from_pretrained(\"bert-base-uncased\")\n",
    "model = AutoModel.from_pretrained(\"bert-base-uncased\")\n",
    "\n"
   ]
  },
  {
   "cell_type": "code",
   "execution_count": 180,
   "id": "34107c7d-6744-4013-9be0-ad01c5b522fc",
   "metadata": {},
   "outputs": [],
   "source": [
    "\n",
    "# Function to extract embeddings from a BERT model\n",
    "def sentences2embeddings(sentences, verbose = False):\n",
    "    embeddings_all_sentences = []\n",
    "    \n",
    "    # Tokenize and process each sentence\n",
    "    for sentence in sentences:\n",
    "        if verbose == True: \n",
    "            print(\"Calculating the embeddings of: \", sentence)\n",
    "            print()\n",
    "        inputs = tokenizer(sentence, return_tensors=\"pt\", padding=True, truncation=True)\n",
    "        \n",
    "        # Forward pass through the model\n",
    "        outputs = model(**inputs, output_hidden_states=True)\n",
    "    \n",
    "        # Extract token embeddings from the last hidden layer\n",
    "        tokens = tokenizer.convert_ids_to_tokens(inputs[\"input_ids\"][0])\n",
    "        if verbose == True: \n",
    "            print(\"tokens: \", tokens)\n",
    "            print()\n",
    "    \n",
    "        # Extract embeddings from the last hidden layer\n",
    "        embeddings = outputs.hidden_states[-1][0]  # Shape: [seq_len, hidden_dim]\n",
    "    \n",
    "        token_embeddings_pairs = {}\n",
    "        for token, embedding in zip(tokens, embeddings):\n",
    "            # Create the dictionary of token and its embedding\n",
    "            token_embeddings_pairs[token] = embedding.tolist()\n",
    "    \n",
    "        embeddings_all_sentences.append(token_embeddings_pairs)\n",
    "        \n",
    "    return embeddings_all_sentences\n",
    "\n"
   ]
  },
  {
   "cell_type": "code",
   "execution_count": 181,
   "id": "3433fd4f-00ac-4112-9986-3c34fea52de3",
   "metadata": {},
   "outputs": [],
   "source": [
    "def vis_points(data):\n",
    "\n",
    "    x = data[:, 0]\n",
    "    y = data[:, 1]\n",
    "    z = data[:, 2]\n",
    "    \n",
    "    labels=[]\n",
    "    for i in range (len(data)):\n",
    "        labels.append(str(i+1))\n",
    "    \n",
    "    # Create a 3D scatter plot\n",
    "    fig = plt.figure()\n",
    "    ax = fig.add_subplot(111, projection='3d')\n",
    "    ax.scatter(x, y, z, c='b', marker='o')\n",
    "    for i, label in enumerate(labels):\n",
    "        ax.text(x[i], y[i], z[i], label, fontsize=10, color='blue')\n",
    "    \n",
    "    # Show plot\n",
    "    plt.show()"
   ]
  },
  {
   "cell_type": "code",
   "execution_count": 200,
   "id": "7bcf48a7-7b0e-442c-9b07-7d151ed14aa4",
   "metadata": {},
   "outputs": [],
   "source": [
    "# Returns a numpy array with the the embedding vectors of the same word in different sentences\n",
    "def find_embeddings_word_in_different_sentences(sentences, word, verbose = True):\n",
    "\n",
    "    # Calculate embeddings of words for each sentence\n",
    "    embeddings_all_sentences = sentences2embeddings(sentences)\n",
    "          \n",
    "    # The space is replaced with \"▁\" (NOTE: not \"_\", they are different ASCII codes) so each token of a new word starts with it \n",
    "    #word2lookfor = \"▁\" + word\n",
    "    word2lookfor = word\n",
    "\n",
    "    for n in range(len(embeddings_all_sentences)):\n",
    "        print()\n",
    "        print (\"embeddings sentence\", n, \":\")\n",
    "        for key, value in embeddings_all_sentences[n].items():\n",
    "            print(f\"{key}: {value[:3]}\")\n",
    "    \n",
    "    # the first five numbers of the embedding vectors of the word bank within each sentence\n",
    "    if verbose == True: \n",
    "        print (\"The different embedding vectors (first 5 elements) of the word \\\"\" + word + \"\\\"\")\n",
    "        for i in range(len(embeddings_all_sentences)):\n",
    "            print (embeddings_all_sentences[i][word2lookfor][:5])\n",
    "\n",
    "    # Put the embeddings of the words in a list of lists:\n",
    "    embeddings_all_sentences_list = []\n",
    "    for i in range (len(embeddings_all_sentences)):\n",
    "        embeddings_all_sentences_list.append(embeddings_all_sentences[i][word2lookfor])\n",
    "    \n",
    "    # Convert it to numpy array: 4 lines for 4096 elements each (i.e. the length of the embedding vector of a word)\n",
    "    embeddings_all_sentences_array = np.array(embeddings_all_sentences_list, dtype='float32')\n",
    "\n",
    "    return embeddings_all_sentences_array\n",
    "    \n",
    "\n",
    "\n"
   ]
  },
  {
   "cell_type": "code",
   "execution_count": 201,
   "id": "bfb25a35-9192-46b9-ae19-22450256e880",
   "metadata": {},
   "outputs": [],
   "source": [
    "# Reduce dimensionality with PCA to visualise the array in a 3d graph\n",
    "def array2pca(embeddings_all_sentences_array):\n",
    "\n",
    "    pca = PCA(n_components=3)\n",
    "    embeddings_all_sentences_array_pca = pca.fit_transform(embeddings_all_sentences_array)\n",
    "    return embeddings_all_sentences_array_pca\n",
    "    "
   ]
  },
  {
   "cell_type": "code",
   "execution_count": 202,
   "id": "08fc6614",
   "metadata": {},
   "outputs": [],
   "source": [
    "def unit_vector(vector):\n",
    "    \"\"\" Returns the unit vector of the vector.  \"\"\"\n",
    "    return vector / np.linalg.norm(vector)\n",
    "\n",
    "def angle_between(v1, v2):\n",
    "    \"\"\" Returns the angle in radians between vectors 'v1' and 'v2'::\n",
    "\n",
    "            >>> angle_between((1, 0, 0), (0, 1, 0))\n",
    "            1.5707963267948966\n",
    "            >>> angle_between((1, 0, 0), (1, 0, 0))\n",
    "            0.0\n",
    "            >>> angle_between((1, 0, 0), (-1, 0, 0))\n",
    "            3.141592653589793\n",
    "    \"\"\"\n",
    "    v1_u = unit_vector(v1)\n",
    "    v2_u = unit_vector(v2)\n",
    "    return np.arccos(np.clip(np.dot(v1_u, v2_u), -1.0, 1.0))\n"
   ]
  },
  {
   "cell_type": "code",
   "execution_count": 203,
   "id": "2bd74a27-18ae-4414-8e35-6c8966ff7d47",
   "metadata": {},
   "outputs": [],
   "source": [
    "def show_meaning_distances_euclidean(embeddings_all_sentences_array, word):\n",
    "    printmd (\"**Euclidean distance between embedding vectors of the word \\\"\"+word+\"\\\" in sentences:**\")\n",
    "    labels=[]\n",
    "    for i in range (len(embeddings_all_sentences_array)):\n",
    "        labels.append(str(i+1))\n",
    "    \n",
    "    for i in range (len(embeddings_all_sentences_array)):\n",
    "        j_list = range(i, len(embeddings_all_sentences_array))\n",
    "        j_list = [*j_list]\n",
    "        j_list.remove(i)\n",
    "        for j in j_list:\n",
    "            if (i+1==2 and j+1==3) or (i+1==4 and j+1==5):\n",
    "                printmd(f\"**{labels[i]} and {labels[j]}: {np.linalg.norm(embeddings_all_sentences_array[i] - embeddings_all_sentences_array[j]):.2f}**\")\n",
    "            else:\n",
    "                printmd(f\"{labels[i]} and {labels[j]}: {np.linalg.norm(embeddings_all_sentences_array[i] - embeddings_all_sentences_array[j]):.2f}\")"
   ]
  },
  {
   "cell_type": "code",
   "execution_count": 204,
   "id": "3465acdf-eb60-46c4-bd68-92c9aba698d9",
   "metadata": {},
   "outputs": [],
   "source": [
    "def show_meaning_similarities_euclidean(embeddings_all_sentences_array, word):\n",
    "    epsilon = 0.0001\n",
    "    printmd (\"**Similarity between embedding vectors of the word \\\"\"+word+\"\\\" (based on opposite of Euclidean distance) in sentences:**\")\n",
    "    labels=[]\n",
    "    for i in range (len(embeddings_all_sentences_array)):\n",
    "        labels.append(str(i+1))\n",
    "    \n",
    "    for i in range (len(embeddings_all_sentences_array)):\n",
    "        j_list = range(i, len(embeddings_all_sentences_array))\n",
    "        j_list = [*j_list]\n",
    "        j_list.remove(i)\n",
    "        for j in j_list:\n",
    "            euclidean_distance = np.linalg.norm(embeddings_all_sentences_array[i] - embeddings_all_sentences_array[j])\n",
    "            similarity = 1 / (euclidean_distance + epsilon) *100\n",
    "            if (i+1==2 and j+1==3) or (i+1==4 and j+1==5):\n",
    "                printmd(f\"**{labels[i]} and {labels[j]}: {similarity:.2f}**\")\n",
    "            else:\n",
    "                printmd(f\"{labels[i]} and {labels[j]}: {similarity:.2f}\")\n",
    "\n"
   ]
  },
  {
   "cell_type": "code",
   "execution_count": 205,
   "id": "60a2a028-fa13-428b-aace-082cd4827532",
   "metadata": {},
   "outputs": [],
   "source": [
    "def show_meaning_similarities_cosine(embeddings_all_sentences_array, word):\n",
    "    printmd (\"**Cosine similarity between embedding vectors of the word \\\"\"+word+\"\\\" (range: -1 for opposite meaning, +1 for very similar) in sentences:**\")\n",
    "    labels=[]\n",
    "    for i in range (len(embeddings_all_sentences_array)):\n",
    "        labels.append(str(i+1))\n",
    "    \n",
    "    for i in range (len(embeddings_all_sentences_array)):\n",
    "        j_list = range(i, len(embeddings_all_sentences_array))\n",
    "        j_list = [*j_list]\n",
    "        j_list.remove(i)\n",
    "        for j in j_list:\n",
    "            if (i+1==2 and j+1==3) or (i+1==4 and j+1==5):\n",
    "                printmd(f\"**{labels[i]} and {labels[j]}: {math.cos(angle_between(embeddings_all_sentences_array[i], embeddings_all_sentences_array[j])):.2f}**\")\n",
    "            else:\n",
    "                printmd(f\"{labels[i]} and {labels[j]}: {math.cos(angle_between(embeddings_all_sentences_array[i], embeddings_all_sentences_array[j])):.2f}\")\n"
   ]
  },
  {
   "cell_type": "code",
   "execution_count": 206,
   "id": "734e931a-07c4-4ef4-9d82-d2093d5c57c6",
   "metadata": {},
   "outputs": [],
   "source": [
    "def analyse_word_in_sentences(sentences, word):\n",
    "    # calculate embeddings\n",
    "    embeddings_all_sentences_array = find_embeddings_word_in_different_sentences(sentences, word)\n",
    "\n",
    "    # calculate pca for visualization\n",
    "    embeddings_all_sentences_array_pca = array2pca(embeddings_all_sentences_array)\n",
    "\n",
    "    # visualize\n",
    "    vis_points(embeddings_all_sentences_array_pca)\n",
    "\n",
    "    # calculate distance between points\n",
    "    show_meaning_similarities_euclidean(embeddings_all_sentences_array, word)\n",
    "    print ()\n",
    "    show_meaning_similarities_cosine(embeddings_all_sentences_array, word)"
   ]
  },
  {
   "cell_type": "markdown",
   "id": "88d32c4b-28cb-43ab-baa9-726391dad392",
   "metadata": {},
   "source": [
    "# TEST\n",
    "## Calculate the distance between the embeddings of the same word in different contexts"
   ]
  },
  {
   "cell_type": "code",
   "execution_count": 207,
   "id": "1348f333-d1b9-489c-8374-8b81ba962565",
   "metadata": {},
   "outputs": [
    {
     "data": {
      "text/markdown": [
       "**globe**"
      ],
      "text/plain": [
       "<IPython.core.display.Markdown object>"
      ]
     },
     "metadata": {},
     "output_type": "display_data"
    },
    {
     "name": "stdout",
     "output_type": "stream",
     "text": [
      "1 - the flat earth community has supporters all around the globe.\n",
      "2 - The teacher used a globe in class to demonstrate the worlds geography.\n",
      "3 - The poet wrote about the beauty of the globes nature and landscapes.\n",
      "\n",
      "\n",
      "embeddings sentence 0 :\n",
      "[CLS]: [-0.01402663066983223, 0.1668356955051422, 0.13765527307987213]\n",
      "the: [-0.6001711487770081, 0.10888228565454483, 0.16632944345474243]\n",
      "flat: [0.915135383605957, -0.376993864774704, 0.9578389525413513]\n",
      "earth: [-0.12473676353693008, 0.026187598705291748, 0.4478054642677307]\n",
      "community: [0.810916006565094, -0.11534718424081802, -0.1709599494934082]\n",
      "has: [0.3566402196884155, 0.389675498008728, 0.4621482789516449]\n",
      "supporters: [1.0232963562011719, -0.3055802583694458, 0.02914939448237419]\n",
      "all: [-0.40507176518440247, 0.36889633536338806, 0.7220349907875061]\n",
      "around: [-0.66689532995224, 0.2784540355205536, 0.1924590766429901]\n",
      "globe: [0.33648616075515747, 0.14463874697685242, 0.12018117308616638]\n",
      ".: [0.5712435841560364, -0.04302891343832016, -0.300833523273468]\n",
      "[SEP]: [0.2927064001560211, 0.13469696044921875, -0.10113973915576935]\n",
      "\n",
      "embeddings sentence 1 :\n",
      "[CLS]: [-0.38383749127388, -0.05827732011675835, -0.28496700525283813]\n",
      "the: [-0.8347352743148804, 0.18043088912963867, 0.16048699617385864]\n",
      "teacher: [-0.35229259729385376, -0.6690728664398193, -0.596199095249176]\n",
      "used: [0.19172444939613342, 0.5333528518676758, -0.05803334340453148]\n",
      "a: [-0.45108315348625183, 0.6041812896728516, 0.19633159041404724]\n",
      "globe: [0.4828566610813141, 0.2138655185699463, 0.5102571845054626]\n",
      "in: [-1.208043098449707, -0.36566591262817383, -0.5767039656639099]\n",
      "class: [-1.029171109199524, -0.16214591264724731, -1.1831045150756836]\n",
      "to: [-0.24322965741157532, 0.3094140589237213, -0.3191220760345459]\n",
      "demonstrate: [-0.7044627666473389, 0.7915669679641724, -0.09414088726043701]\n",
      "worlds: [-0.20833085477352142, 0.16105163097381592, 0.3120661675930023]\n",
      "geography: [-0.3724658489227295, 0.043244071304798126, 0.2793391942977905]\n",
      ".: [0.32531502842903137, 0.4595703184604645, -0.28812333941459656]\n",
      "[SEP]: [-0.7626075148582458, 0.5859917998313904, 0.3579626679420471]\n",
      "\n",
      "embeddings sentence 2 :\n",
      "[CLS]: [-0.26529890298843384, 0.011978808790445328, -0.33966121077537537]\n",
      "the: [0.033835433423519135, 0.23260906338691711, 0.28460177779197693]\n",
      "poet: [-0.2492675632238388, 0.5919014811515808, -0.3303598165512085]\n",
      "wrote: [0.18705202639102936, 0.6951543688774109, -0.21157050132751465]\n",
      "about: [0.11006057262420654, 0.9486696720123291, -0.1259516328573227]\n",
      "beauty: [0.11508925259113312, -0.09111592173576355, 0.5568496584892273]\n",
      "of: [-0.43489253520965576, 0.37893304228782654, 0.6127071976661682]\n",
      "globe: [0.07202912122011185, 0.25539225339889526, 0.1437646895647049]\n",
      "##s: [-0.13519789278507233, 0.08684895187616348, -0.08636172115802765]\n",
      "nature: [0.25761979818344116, 0.5764567852020264, 0.7209672331809998]\n",
      "and: [-0.2696969211101532, 0.2062799334526062, 0.15673038363456726]\n",
      "landscapes: [0.2917208969593048, 0.8817014098167419, 0.7517330646514893]\n",
      ".: [0.3486376404762268, -0.007917948998510838, -0.4635484516620636]\n",
      "[SEP]: [0.26078543066978455, 0.20766445994377136, -0.13635028898715973]\n",
      "The different embedding vectors (first 5 elements) of the word \"globe\"\n",
      "[0.33648616075515747, 0.14463874697685242, 0.12018117308616638, 0.07131338864564896, -0.4176001250743866]\n",
      "[0.4828566610813141, 0.2138655185699463, 0.5102571845054626, -0.017598306760191917, 0.4763248562812805]\n",
      "[0.07202912122011185, 0.25539225339889526, 0.1437646895647049, 0.18896761536598206, 0.27601373195648193]\n"
     ]
    },
    {
     "data": {
      "image/png": "[encoded data removed]",
      "text/plain": [
       "<Figure size 640x480 with 1 Axes>"
      ]
     },
     "metadata": {},
     "output_type": "display_data"
    },
    {
     "data": {
      "text/markdown": [
       "**Similarity between embedding vectors of the word \"globe\" (based on opposite of Euclidean distance) in sentences:**"
      ],
      "text/plain": [
       "<IPython.core.display.Markdown object>"
      ]
     },
     "metadata": {},
     "output_type": "display_data"
    },
    {
     "data": {
      "text/markdown": [
       "1 and 2: 6.08"
      ],
      "text/plain": [
       "<IPython.core.display.Markdown object>"
      ]
     },
     "metadata": {},
     "output_type": "display_data"
    },
    {
     "data": {
      "text/markdown": [
       "1 and 3: 6.01"
      ],
      "text/plain": [
       "<IPython.core.display.Markdown object>"
      ]
     },
     "metadata": {},
     "output_type": "display_data"
    },
    {
     "data": {
      "text/markdown": [
       "**2 and 3: 8.21**"
      ],
      "text/plain": [
       "<IPython.core.display.Markdown object>"
      ]
     },
     "metadata": {},
     "output_type": "display_data"
    },
    {
     "name": "stdout",
     "output_type": "stream",
     "text": [
      "\n"
     ]
    },
    {
     "data": {
      "text/markdown": [
       "**Cosine similarity between embedding vectors of the word \"globe\" (range: -1 for opposite meaning, +1 for very similar) in sentences:**"
      ],
      "text/plain": [
       "<IPython.core.display.Markdown object>"
      ]
     },
     "metadata": {},
     "output_type": "display_data"
    },
    {
     "data": {
      "text/markdown": [
       "1 and 2: 0.42"
      ],
      "text/plain": [
       "<IPython.core.display.Markdown object>"
      ]
     },
     "metadata": {},
     "output_type": "display_data"
    },
    {
     "data": {
      "text/markdown": [
       "1 and 3: 0.39"
      ],
      "text/plain": [
       "<IPython.core.display.Markdown object>"
      ]
     },
     "metadata": {},
     "output_type": "display_data"
    },
    {
     "data": {
      "text/markdown": [
       "**2 and 3: 0.61**"
      ],
      "text/plain": [
       "<IPython.core.display.Markdown object>"
      ]
     },
     "metadata": {},
     "output_type": "display_data"
    },
    {
     "name": "stdout",
     "output_type": "stream",
     "text": [
      "\n"
     ]
    },
    {
     "data": {
      "text/markdown": [
       "**cellar**"
      ],
      "text/plain": [
       "<IPython.core.display.Markdown object>"
      ]
     },
     "metadata": {},
     "output_type": "display_data"
    },
    {
     "name": "stdout",
     "output_type": "stream",
     "text": [
      "1 - what do you call a basement full of redditors? a wine cellar.\n",
      "2 - They kept the canned goods in the cellar to preserve them.\n",
      "3 - The wine was stored in a cellar to age properly.\n",
      "\n",
      "\n",
      "embeddings sentence 0 :\n",
      "[CLS]: [0.06809261441230774, 0.06510338932275772, -0.23508992791175842]\n",
      "what: [0.4997454881668091, -0.10335594415664673, -0.6020895838737488]\n",
      "do: [0.5563700795173645, 0.0776159018278122, -0.39026227593421936]\n",
      "you: [0.22084172070026398, -0.3200734853744507, -0.5208382606506348]\n",
      "call: [0.45796096324920654, 1.1839463710784912, 0.23074239492416382]\n",
      "a: [-0.11052796989679337, 0.5032063722610474, -0.5015779733657837]\n",
      "basement: [1.447916865348816, 0.5467675924301147, -0.6169765591621399]\n",
      "full: [-0.0064870999194681644, 0.05132342129945755, 0.10846252739429474]\n",
      "of: [0.20893265306949615, 0.2826891541481018, 0.10084649920463562]\n",
      "red: [0.027002345770597458, -0.8678498268127441, 0.32006213068962097]\n",
      "##dit: [0.012374290265142918, -0.6839234232902527, 0.7259311676025391]\n",
      "##ors: [0.6425626277923584, 0.18698307871818542, 0.2803654670715332]\n",
      "?: [-0.10593689978122711, -0.18851444125175476, -0.5129037499427795]\n",
      "wine: [1.270184874534607, 0.5402994155883789, 0.13693928718566895]\n",
      "cellar: [0.8861355781555176, 0.9172810912132263, -0.32412850856781006]\n",
      ".: [-0.049881462007761, -0.3507569134235382, -0.8844450116157532]\n",
      "[SEP]: [0.6991966366767883, 0.3983285427093506, -0.18595317006111145]\n",
      "\n",
      "embeddings sentence 1 :\n",
      "[CLS]: [0.12038316577672958, 0.23563486337661743, -0.2822869122028351]\n",
      "they: [0.6680853962898254, 0.08607109636068344, -0.3119947016239166]\n",
      "kept: [0.8279728889465332, -0.12816621363162994, -0.4899434745311737]\n",
      "the: [0.04059407860040665, -0.2895706295967102, -0.6750166416168213]\n",
      "canned: [1.0040814876556396, 0.861879825592041, -0.13240869343280792]\n",
      "goods: [0.3073650002479553, 0.25750651955604553, 0.397482305765152]\n",
      "in: [-0.5041972398757935, -0.4120081961154938, -0.4557062089443207]\n",
      "cellar: [0.9681610465049744, 0.808222770690918, -1.0243234634399414]\n",
      "to: [0.2415468841791153, 0.04867930710315704, -0.31793612241744995]\n",
      "preserve: [0.3124309480190277, 0.7212570905685425, 0.2780255377292633]\n",
      "them: [0.4017412066459656, 0.5842243432998657, 0.047129686921834946]\n",
      ".: [0.4240705370903015, 0.15696421265602112, -0.3909633457660675]\n",
      "[SEP]: [0.4600270092487335, 0.371900737285614, 0.08405966311693192]\n",
      "\n",
      "embeddings sentence 2 :\n",
      "[CLS]: [-0.4891262650489807, 0.09735419601202011, -0.14495700597763062]\n",
      "the: [-0.3124517798423767, -0.2990688681602478, -0.3551484942436218]\n",
      "wine: [0.8430430293083191, -0.10602949559688568, 0.18704476952552795]\n",
      "was: [-0.31894683837890625, -0.4263669550418854, -0.12525519728660583]\n",
      "stored: [-0.08351396769285202, -0.5413016080856323, 0.14375153183937073]\n",
      "in: [-1.5268564224243164, -0.4006125032901764, -0.4159170091152191]\n",
      "a: [-0.5768997073173523, -0.08585330098867416, -0.40884727239608765]\n",
      "cellar: [0.9680747389793396, 0.5415367484092712, 0.07444882392883301]\n",
      "to: [-0.3075173497200012, -0.12174965441226959, 0.26503515243530273]\n",
      "age: [0.33250895142555237, 0.5625790357589722, 0.7269800901412964]\n",
      "properly: [-0.10212118923664093, 0.07659182697534561, 0.23166105151176453]\n",
      ".: [0.3372313678264618, 0.14364656805992126, -0.2634216845035553]\n",
      "[SEP]: [-0.6600019931793213, -0.05700654163956642, 0.024927161633968353]\n",
      "The different embedding vectors (first 5 elements) of the word \"cellar\"\n",
      "[0.8861355781555176, 0.9172810912132263, -0.32412850856781006, -0.12809765338897705, 0.8591363430023193]\n",
      "[0.9681610465049744, 0.808222770690918, -1.0243234634399414, 0.08483487367630005, 1.1668932437896729]\n",
      "[0.9680747389793396, 0.5415367484092712, 0.07444882392883301, -0.25817400217056274, 1.0242420434951782]\n"
     ]
    },
    {
     "data": {
      "image/png": "[encoded data removed]",
      "text/plain": [
       "<Figure size 640x480 with 1 Axes>"
      ]
     },
     "metadata": {},
     "output_type": "display_data"
    },
    {
     "data": {
      "text/markdown": [
       "**Similarity between embedding vectors of the word \"cellar\" (based on opposite of Euclidean distance) in sentences:**"
      ],
      "text/plain": [
       "<IPython.core.display.Markdown object>"
      ]
     },
     "metadata": {},
     "output_type": "display_data"
    },
    {
     "data": {
      "text/markdown": [
       "1 and 2: 8.35"
      ],
      "text/plain": [
       "<IPython.core.display.Markdown object>"
      ]
     },
     "metadata": {},
     "output_type": "display_data"
    },
    {
     "data": {
      "text/markdown": [
       "1 and 3: 9.26"
      ],
      "text/plain": [
       "<IPython.core.display.Markdown object>"
      ]
     },
     "metadata": {},
     "output_type": "display_data"
    },
    {
     "data": {
      "text/markdown": [
       "**2 and 3: 9.28**"
      ],
      "text/plain": [
       "<IPython.core.display.Markdown object>"
      ]
     },
     "metadata": {},
     "output_type": "display_data"
    },
    {
     "name": "stdout",
     "output_type": "stream",
     "text": [
      "\n"
     ]
    },
    {
     "data": {
      "text/markdown": [
       "**Cosine similarity between embedding vectors of the word \"cellar\" (range: -1 for opposite meaning, +1 for very similar) in sentences:**"
      ],
      "text/plain": [
       "<IPython.core.display.Markdown object>"
      ]
     },
     "metadata": {},
     "output_type": "display_data"
    },
    {
     "data": {
      "text/markdown": [
       "1 and 2: 0.67"
      ],
      "text/plain": [
       "<IPython.core.display.Markdown object>"
      ]
     },
     "metadata": {},
     "output_type": "display_data"
    },
    {
     "data": {
      "text/markdown": [
       "1 and 3: 0.71"
      ],
      "text/plain": [
       "<IPython.core.display.Markdown object>"
      ]
     },
     "metadata": {},
     "output_type": "display_data"
    },
    {
     "data": {
      "text/markdown": [
       "**2 and 3: 0.74**"
      ],
      "text/plain": [
       "<IPython.core.display.Markdown object>"
      ]
     },
     "metadata": {},
     "output_type": "display_data"
    },
    {
     "name": "stdout",
     "output_type": "stream",
     "text": [
      "\n"
     ]
    },
    {
     "data": {
      "text/markdown": [
       "**racket**"
      ],
      "text/plain": [
       "<IPython.core.display.Markdown object>"
      ]
     },
     "metadata": {},
     "output_type": "display_data"
    },
    {
     "name": "stdout",
     "output_type": "stream",
     "text": [
      "1 - why did the tennis player get thrown out of his workshop? he was making a racket.\n",
      "2 - She refused to make a racket in the library while studying.\n",
      "3 - He bought a new tennis racket for the tournament next week.\n",
      "\n",
      "\n",
      "embeddings sentence 0 :\n",
      "[CLS]: [0.04632001370191574, 0.2196321189403534, 0.0835866928100586]\n",
      "why: [0.24122849106788635, 0.36257708072662354, -0.1198815107345581]\n",
      "did: [-0.23166169226169586, -0.20463883876800537, 0.24486351013183594]\n",
      "the: [0.28598394989967346, -0.193523108959198, -0.05152513459324837]\n",
      "tennis: [-0.0718512013554573, -0.39528965950012207, 0.3190123736858368]\n",
      "player: [-0.02802019938826561, 0.0016218069940805435, 0.3016454875469208]\n",
      "get: [-0.10142872482538223, -0.3048568069934845, 0.5175058841705322]\n",
      "thrown: [0.08487526327371597, -0.033391933888196945, 0.05685975402593613]\n",
      "out: [-0.5059062838554382, -0.40975868701934814, -0.19772092998027802]\n",
      "of: [-0.8624881505966187, -0.05314107611775398, -0.3213236331939697]\n",
      "his: [0.4180920422077179, 0.4595106840133667, 0.2911449372768402]\n",
      "workshop: [1.6049084663391113, 0.3110519051551819, -0.7178205847740173]\n",
      "?: [-0.02039916440844536, 0.42985838651657104, -0.1511346846818924]\n",
      "he: [0.287497878074646, 0.5574548244476318, 0.3636028468608856]\n",
      "was: [0.23882240056991577, 0.2998979091644287, -0.25124838948249817]\n",
      "making: [0.13812527060508728, 0.3509766757488251, 0.01230732724070549]\n",
      "a: [-0.002163301222026348, 0.17019453644752502, 0.08126182854175568]\n",
      "rack: [0.5552781820297241, -0.5343858003616333, 1.098712682723999]\n",
      "##et: [0.3263484835624695, -0.010907522402703762, -0.3574675917625427]\n",
      ".: [0.6745222806930542, 0.3399147689342499, -0.39458438754081726]\n",
      "[SEP]: [0.3218090832233429, 0.6445228457450867, 0.24901258945465088]\n",
      "\n",
      "embeddings sentence 1 :\n",
      "[CLS]: [0.1783241629600525, -0.07094807922840118, -0.3593897223472595]\n",
      "she: [0.6907891035079956, -0.320447713136673, -0.2537534832954407]\n",
      "refused: [0.2918814420700073, -0.41583868861198425, -0.31081777811050415]\n",
      "to: [0.5475127696990967, -0.41345691680908203, -0.538011908531189]\n",
      "make: [0.5838679671287537, 0.2709241807460785, -0.5018911361694336]\n",
      "a: [-0.1430070698261261, -0.6099454164505005, 0.04052159935235977]\n",
      "rack: [1.1230137348175049, -0.9882542490959167, 0.48634883761405945]\n",
      "##et: [0.23375020921230316, -0.37476351857185364, -0.07239501178264618]\n",
      "in: [-0.473477303981781, -0.053148429840803146, -0.444892555475235]\n",
      "the: [0.07420939207077026, -0.47756752371788025, -0.4596323072910309]\n",
      "library: [0.9997544884681702, -0.0785255953669548, -0.02106732502579689]\n",
      "while: [-0.1864687204360962, 0.07374102622270584, 0.1958036869764328]\n",
      "studying: [0.627323567867279, 0.22234490513801575, -0.05575728788971901]\n",
      ".: [0.6157569289207458, 0.15508925914764404, -0.4316457211971283]\n",
      "[SEP]: [0.5485741496086121, 0.34797561168670654, 0.14017906785011292]\n",
      "\n",
      "embeddings sentence 2 :\n",
      "[CLS]: [-0.1613590270280838, 0.047660112380981445, 0.12634001672267914]\n",
      "he: [0.7415461540222168, 0.06938467919826508, 0.12182343006134033]\n",
      "bought: [0.8746476173400879, -0.3328944444656372, 0.021379409357905388]\n",
      "a: [-0.1736234873533249, -0.05669938772916794, -0.12473741173744202]\n",
      "new: [0.2784869372844696, -0.17090138792991638, 0.23699906468391418]\n",
      "tennis: [0.03450895845890045, -0.5435407757759094, 0.9237951040267944]\n",
      "rack: [0.6244050860404968, -0.13069762289524078, 0.9126436114311218]\n",
      "##et: [0.374819278717041, 0.15164399147033691, 0.025824500247836113]\n",
      "for: [-0.023276586085557938, -0.5500174164772034, 0.5956535339355469]\n",
      "the: [-1.0972281694412231, -0.555232048034668, 0.5289475917816162]\n",
      "tournament: [-0.32931238412857056, -0.3616890609264374, 1.271017074584961]\n",
      "next: [-0.6855625510215759, -1.0418543815612793, 0.7791276574134827]\n",
      "week: [-0.31886985898017883, -1.0704774856567383, 0.080092653632164]\n",
      ".: [0.3535870313644409, 0.27280983328819275, -0.06246160343289375]\n",
      "[SEP]: [-0.736814022064209, 0.48076727986335754, 0.74785315990448]\n",
      "The different embedding vectors (first 5 elements) of the word \"racket\"\n"
     ]
    },
    {
     "ename": "KeyError",
     "evalue": "'racket'",
     "output_type": "error",
     "traceback": [
      "\u001b[0;31m---------------------------------------------------------------------------\u001b[0m",
      "\u001b[0;31mKeyError\u001b[0m                                  Traceback (most recent call last)",
      "Cell \u001b[0;32mIn[207], line 8\u001b[0m\n\u001b[1;32m      6\u001b[0m     \u001b[38;5;28mprint\u001b[39m (i\u001b[38;5;241m+\u001b[39m\u001b[38;5;241m1\u001b[39m, \u001b[38;5;124m\"\u001b[39m\u001b[38;5;124m-\u001b[39m\u001b[38;5;124m\"\u001b[39m, sentence)\n\u001b[1;32m      7\u001b[0m \u001b[38;5;28mprint\u001b[39m ()\n\u001b[0;32m----> 8\u001b[0m analyse_word_in_sentences(sentences, word)\n\u001b[1;32m      9\u001b[0m \u001b[38;5;28mprint\u001b[39m ()\n",
      "Cell \u001b[0;32mIn[206], line 3\u001b[0m, in \u001b[0;36manalyse_word_in_sentences\u001b[0;34m(sentences, word)\u001b[0m\n\u001b[1;32m      1\u001b[0m \u001b[38;5;28;01mdef\u001b[39;00m \u001b[38;5;21manalyse_word_in_sentences\u001b[39m(sentences, word):\n\u001b[1;32m      2\u001b[0m     \u001b[38;5;66;03m# calculate embeddings\u001b[39;00m\n\u001b[0;32m----> 3\u001b[0m     embeddings_all_sentences_array \u001b[38;5;241m=\u001b[39m find_embeddings_word_in_different_sentences(sentences, word)\n\u001b[1;32m      5\u001b[0m     \u001b[38;5;66;03m# calculate pca for visualization\u001b[39;00m\n\u001b[1;32m      6\u001b[0m     embeddings_all_sentences_array_pca \u001b[38;5;241m=\u001b[39m array2pca(embeddings_all_sentences_array)\n",
      "Cell \u001b[0;32mIn[200], line 21\u001b[0m, in \u001b[0;36mfind_embeddings_word_in_different_sentences\u001b[0;34m(sentences, word, verbose)\u001b[0m\n\u001b[1;32m     19\u001b[0m     \u001b[38;5;28mprint\u001b[39m (\u001b[38;5;124m\"\u001b[39m\u001b[38;5;124mThe different embedding vectors (first 5 elements) of the word \u001b[39m\u001b[38;5;130;01m\\\"\u001b[39;00m\u001b[38;5;124m\"\u001b[39m \u001b[38;5;241m+\u001b[39m word \u001b[38;5;241m+\u001b[39m \u001b[38;5;124m\"\u001b[39m\u001b[38;5;130;01m\\\"\u001b[39;00m\u001b[38;5;124m\"\u001b[39m)\n\u001b[1;32m     20\u001b[0m     \u001b[38;5;28;01mfor\u001b[39;00m i \u001b[38;5;129;01min\u001b[39;00m \u001b[38;5;28mrange\u001b[39m(\u001b[38;5;28mlen\u001b[39m(embeddings_all_sentences)):\n\u001b[0;32m---> 21\u001b[0m         \u001b[38;5;28mprint\u001b[39m (embeddings_all_sentences[i][word2lookfor][:\u001b[38;5;241m5\u001b[39m])\n\u001b[1;32m     23\u001b[0m \u001b[38;5;66;03m# Put the embeddings of the words in a list of lists:\u001b[39;00m\n\u001b[1;32m     24\u001b[0m embeddings_all_sentences_list \u001b[38;5;241m=\u001b[39m []\n",
      "\u001b[0;31mKeyError\u001b[0m: 'racket'"
     ]
    }
   ],
   "source": [
    "for sentences_group in all_sentences:\n",
    "    word = sentences_group[0]\n",
    "    printmd (\"**\"+word+\"**\")\n",
    "    sentences = sentences_group[1]\n",
    "    for i, sentence in enumerate(sentences):\n",
    "        print (i+1, \"-\", sentence)\n",
    "    print ()\n",
    "    analyse_word_in_sentences(sentences, word)\n",
    "    print ()"
   ]
  },
  {
   "cell_type": "code",
   "execution_count": null,
   "id": "6394ef98-7878-4443-99a9-247fcd09e8a0",
   "metadata": {},
   "outputs": [],
   "source": []
  },
  {
   "cell_type": "code",
   "execution_count": null,
   "id": "f8698eb7-4e59-4ff2-b4d2-5b391fef589a",
   "metadata": {},
   "outputs": [],
   "source": []
  }
 ],
 "metadata": {
  "kernelspec": {
   "display_name": "Python 3 (ipykernel)",
   "language": "python",
   "name": "python3"
  },
  "language_info": {
   "codemirror_mode": {
    "name": "ipython",
    "version": 3
   },
   "file_extension": ".py",
   "mimetype": "text/x-python",
   "name": "python",
   "nbconvert_exporter": "python",
   "pygments_lexer": "ipython3",
   "version": "3.12.4"
  }
 },
 "nbformat": 4,
 "nbformat_minor": 5
}
