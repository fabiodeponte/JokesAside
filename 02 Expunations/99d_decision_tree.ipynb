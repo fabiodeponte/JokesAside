{
 "cells": [
  {
   "cell_type": "code",
   "execution_count": 45,
   "id": "1faef9fd-436e-4991-85a0-718612abcb0e",
   "metadata": {},
   "outputs": [],
   "source": [
    "import numpy as np\n",
    "import pandas as pd\n",
    "from sklearn.tree import DecisionTreeClassifier, plot_tree\n",
    "from sklearn.model_selection import train_test_split\n",
    "from sklearn.metrics import confusion_matrix, accuracy_score, precision_score, recall_score, f1_score\n",
    "import matplotlib.pyplot as plt\n"
   ]
  },
  {
   "cell_type": "code",
   "execution_count": 32,
   "id": "37f97a5b-a837-4fc1-abf2-8651e07ad3f8",
   "metadata": {},
   "outputs": [],
   "source": [
    "df = pd.read_csv('distances_single_tokens_colbert_12feb.csv', encoding='utf-8')\n"
   ]
  },
  {
   "cell_type": "code",
   "execution_count": 33,
   "id": "fda8fcdc-d28c-4f42-813b-0108401d0f49",
   "metadata": {},
   "outputs": [
    {
     "data": {
      "text/html": [
       "<div>\n",
       "<style scoped>\n",
       "    .dataframe tbody tr th:only-of-type {\n",
       "        vertical-align: middle;\n",
       "    }\n",
       "\n",
       "    .dataframe tbody tr th {\n",
       "        vertical-align: top;\n",
       "    }\n",
       "\n",
       "    .dataframe thead th {\n",
       "        text-align: right;\n",
       "    }\n",
       "</style>\n",
       "<table border=\"1\" class=\"dataframe\">\n",
       "  <thead>\n",
       "    <tr style=\"text-align: right;\">\n",
       "      <th></th>\n",
       "      <th>joke</th>\n",
       "      <th>expression1</th>\n",
       "      <th>expression2</th>\n",
       "      <th>funniness_average</th>\n",
       "      <th>filtered_funniness_average</th>\n",
       "      <th>euclidean_distance</th>\n",
       "      <th>cosine_similarity</th>\n",
       "    </tr>\n",
       "  </thead>\n",
       "  <tbody>\n",
       "    <tr>\n",
       "      <th>0</th>\n",
       "      <td>She was only a Waitress ' s daughter but she s...</td>\n",
       "      <td>dish it out</td>\n",
       "      <td>dish it out</td>\n",
       "      <td>0.6</td>\n",
       "      <td>1.000000</td>\n",
       "      <td>12.621944</td>\n",
       "      <td>0.586709</td>\n",
       "    </tr>\n",
       "    <tr>\n",
       "      <th>1</th>\n",
       "      <td>When the glazier was sent to the hospital room...</td>\n",
       "      <td>pane</td>\n",
       "      <td>pain</td>\n",
       "      <td>1.2</td>\n",
       "      <td>2.000000</td>\n",
       "      <td>18.441320</td>\n",
       "      <td>0.247996</td>\n",
       "    </tr>\n",
       "    <tr>\n",
       "      <th>2</th>\n",
       "      <td>The inventor of sandpaper had a rough time of ...</td>\n",
       "      <td>rough</td>\n",
       "      <td>rough</td>\n",
       "      <td>1.6</td>\n",
       "      <td>1.600000</td>\n",
       "      <td>13.749227</td>\n",
       "      <td>0.514092</td>\n",
       "    </tr>\n",
       "    <tr>\n",
       "      <th>3</th>\n",
       "      <td>OLD CONTORTIONISTS never die , they just meet ...</td>\n",
       "      <td>meet their end</td>\n",
       "      <td>meet their end</td>\n",
       "      <td>0.2</td>\n",
       "      <td>1.000000</td>\n",
       "      <td>10.762417</td>\n",
       "      <td>0.673233</td>\n",
       "    </tr>\n",
       "    <tr>\n",
       "      <th>4</th>\n",
       "      <td>When you can ' t decide with your friends whos...</td>\n",
       "      <td>party</td>\n",
       "      <td>party</td>\n",
       "      <td>0.4</td>\n",
       "      <td>0.666667</td>\n",
       "      <td>16.522305</td>\n",
       "      <td>0.393078</td>\n",
       "    </tr>\n",
       "    <tr>\n",
       "      <th>...</th>\n",
       "      <td>...</td>\n",
       "      <td>...</td>\n",
       "      <td>...</td>\n",
       "      <td>...</td>\n",
       "      <td>...</td>\n",
       "      <td>...</td>\n",
       "      <td>...</td>\n",
       "    </tr>\n",
       "    <tr>\n",
       "      <th>1476</th>\n",
       "      <td>Weather forecasters have to have lots of degre...</td>\n",
       "      <td>degrees</td>\n",
       "      <td>degrees</td>\n",
       "      <td>2.0</td>\n",
       "      <td>2.000000</td>\n",
       "      <td>11.932990</td>\n",
       "      <td>0.707570</td>\n",
       "    </tr>\n",
       "    <tr>\n",
       "      <th>1477</th>\n",
       "      <td>Christians , keep the faith . . . but not from...</td>\n",
       "      <td>keep</td>\n",
       "      <td>keep</td>\n",
       "      <td>0.0</td>\n",
       "      <td>0.000000</td>\n",
       "      <td>11.955064</td>\n",
       "      <td>0.632835</td>\n",
       "    </tr>\n",
       "    <tr>\n",
       "      <th>1478</th>\n",
       "      <td>There ' s a Sin dividing line between heaven a...</td>\n",
       "      <td>sin</td>\n",
       "      <td>sign</td>\n",
       "      <td>0.0</td>\n",
       "      <td>0.000000</td>\n",
       "      <td>17.085299</td>\n",
       "      <td>0.383086</td>\n",
       "    </tr>\n",
       "    <tr>\n",
       "      <th>1479</th>\n",
       "      <td>A computer program attached to an electric cha...</td>\n",
       "      <td>execution</td>\n",
       "      <td>execution</td>\n",
       "      <td>0.8</td>\n",
       "      <td>1.000000</td>\n",
       "      <td>16.785654</td>\n",
       "      <td>0.331882</td>\n",
       "    </tr>\n",
       "    <tr>\n",
       "      <th>1480</th>\n",
       "      <td>The inventor of the fahrenheit scale solved th...</td>\n",
       "      <td>degrees</td>\n",
       "      <td>degrees</td>\n",
       "      <td>0.6</td>\n",
       "      <td>1.500000</td>\n",
       "      <td>16.415155</td>\n",
       "      <td>0.392778</td>\n",
       "    </tr>\n",
       "  </tbody>\n",
       "</table>\n",
       "<p>1481 rows × 7 columns</p>\n",
       "</div>"
      ],
      "text/plain": [
       "                                                   joke     expression1  \\\n",
       "0     She was only a Waitress ' s daughter but she s...     dish it out   \n",
       "1     When the glazier was sent to the hospital room...            pane   \n",
       "2     The inventor of sandpaper had a rough time of ...           rough   \n",
       "3     OLD CONTORTIONISTS never die , they just meet ...  meet their end   \n",
       "4     When you can ' t decide with your friends whos...           party   \n",
       "...                                                 ...             ...   \n",
       "1476  Weather forecasters have to have lots of degre...         degrees   \n",
       "1477  Christians , keep the faith . . . but not from...            keep   \n",
       "1478  There ' s a Sin dividing line between heaven a...             sin   \n",
       "1479  A computer program attached to an electric cha...       execution   \n",
       "1480  The inventor of the fahrenheit scale solved th...         degrees   \n",
       "\n",
       "         expression2  funniness_average  filtered_funniness_average  \\\n",
       "0        dish it out                0.6                    1.000000   \n",
       "1               pain                1.2                    2.000000   \n",
       "2              rough                1.6                    1.600000   \n",
       "3     meet their end                0.2                    1.000000   \n",
       "4              party                0.4                    0.666667   \n",
       "...              ...                ...                         ...   \n",
       "1476         degrees                2.0                    2.000000   \n",
       "1477            keep                0.0                    0.000000   \n",
       "1478            sign                0.0                    0.000000   \n",
       "1479       execution                0.8                    1.000000   \n",
       "1480         degrees                0.6                    1.500000   \n",
       "\n",
       "      euclidean_distance  cosine_similarity  \n",
       "0              12.621944           0.586709  \n",
       "1              18.441320           0.247996  \n",
       "2              13.749227           0.514092  \n",
       "3              10.762417           0.673233  \n",
       "4              16.522305           0.393078  \n",
       "...                  ...                ...  \n",
       "1476           11.932990           0.707570  \n",
       "1477           11.955064           0.632835  \n",
       "1478           17.085299           0.383086  \n",
       "1479           16.785654           0.331882  \n",
       "1480           16.415155           0.392778  \n",
       "\n",
       "[1481 rows x 7 columns]"
      ]
     },
     "execution_count": 33,
     "metadata": {},
     "output_type": "execute_result"
    }
   ],
   "source": [
    "df"
   ]
  },
  {
   "cell_type": "code",
   "execution_count": 34,
   "id": "85d8a553-fe2d-4c8c-a9c3-ecea4849ddb3",
   "metadata": {},
   "outputs": [],
   "source": [
    "from sklearn.model_selection import train_test_split\n"
   ]
  },
  {
   "cell_type": "markdown",
   "id": "f05906c3-62cb-4474-90b5-eb9f8ffab691",
   "metadata": {},
   "source": [
    "### Remove NaNs"
   ]
  },
  {
   "cell_type": "code",
   "execution_count": 35,
   "id": "0ef6df8a-1757-406b-90a8-822ce03147cc",
   "metadata": {},
   "outputs": [
    {
     "data": {
      "text/html": [
       "<div>\n",
       "<style scoped>\n",
       "    .dataframe tbody tr th:only-of-type {\n",
       "        vertical-align: middle;\n",
       "    }\n",
       "\n",
       "    .dataframe tbody tr th {\n",
       "        vertical-align: top;\n",
       "    }\n",
       "\n",
       "    .dataframe thead th {\n",
       "        text-align: right;\n",
       "    }\n",
       "</style>\n",
       "<table border=\"1\" class=\"dataframe\">\n",
       "  <thead>\n",
       "    <tr style=\"text-align: right;\">\n",
       "      <th></th>\n",
       "      <th>joke</th>\n",
       "      <th>expression1</th>\n",
       "      <th>expression2</th>\n",
       "      <th>funniness_average</th>\n",
       "      <th>filtered_funniness_average</th>\n",
       "      <th>euclidean_distance</th>\n",
       "      <th>cosine_similarity</th>\n",
       "    </tr>\n",
       "  </thead>\n",
       "  <tbody>\n",
       "    <tr>\n",
       "      <th>96</th>\n",
       "      <td>A bible falling apart belongs to someone who i...</td>\n",
       "      <td>whole</td>\n",
       "      <td>hole</td>\n",
       "      <td>0.0</td>\n",
       "      <td>NaN</td>\n",
       "      <td>15.452782</td>\n",
       "      <td>0.500384</td>\n",
       "    </tr>\n",
       "    <tr>\n",
       "      <th>252</th>\n",
       "      <td>When some people open their mouth they put the...</td>\n",
       "      <td>put their foot in</td>\n",
       "      <td>put their foot in</td>\n",
       "      <td>0.0</td>\n",
       "      <td>NaN</td>\n",
       "      <td>17.106033</td>\n",
       "      <td>0.351444</td>\n",
       "    </tr>\n",
       "    <tr>\n",
       "      <th>443</th>\n",
       "      <td>Il se muove , said Galileo , movingly</td>\n",
       "      <td>move</td>\n",
       "      <td>move</td>\n",
       "      <td>0.0</td>\n",
       "      <td>NaN</td>\n",
       "      <td>16.975450</td>\n",
       "      <td>0.378536</td>\n",
       "    </tr>\n",
       "    <tr>\n",
       "      <th>555</th>\n",
       "      <td>I ' m single , Tom said wanly .</td>\n",
       "      <td>single</td>\n",
       "      <td>single</td>\n",
       "      <td>0.0</td>\n",
       "      <td>NaN</td>\n",
       "      <td>14.464879</td>\n",
       "      <td>0.572881</td>\n",
       "    </tr>\n",
       "    <tr>\n",
       "      <th>766</th>\n",
       "      <td>Act your praise , not your shoe size .</td>\n",
       "      <td>praise</td>\n",
       "      <td>price</td>\n",
       "      <td>0.0</td>\n",
       "      <td>NaN</td>\n",
       "      <td>14.759510</td>\n",
       "      <td>0.364477</td>\n",
       "    </tr>\n",
       "    <tr>\n",
       "      <th>927</th>\n",
       "      <td>They owed me a lot of money for the new house ...</td>\n",
       "      <td>billed</td>\n",
       "      <td>billed</td>\n",
       "      <td>0.0</td>\n",
       "      <td>NaN</td>\n",
       "      <td>18.850290</td>\n",
       "      <td>0.254527</td>\n",
       "    </tr>\n",
       "    <tr>\n",
       "      <th>1114</th>\n",
       "      <td>Dinna wave that axe aboot , Jimmy ! said Tom h...</td>\n",
       "      <td>ask</td>\n",
       "      <td>axe</td>\n",
       "      <td>0.0</td>\n",
       "      <td>NaN</td>\n",
       "      <td>15.931807</td>\n",
       "      <td>0.426721</td>\n",
       "    </tr>\n",
       "    <tr>\n",
       "      <th>1187</th>\n",
       "      <td>Drumming is not the way to catch a hare .</td>\n",
       "      <td>hare</td>\n",
       "      <td>hair</td>\n",
       "      <td>0.0</td>\n",
       "      <td>NaN</td>\n",
       "      <td>15.360841</td>\n",
       "      <td>0.484867</td>\n",
       "    </tr>\n",
       "    <tr>\n",
       "      <th>1234</th>\n",
       "      <td>One Sunday afternoon the Three Musketeers play...</td>\n",
       "      <td>touch</td>\n",
       "      <td>touch</td>\n",
       "      <td>0.0</td>\n",
       "      <td>NaN</td>\n",
       "      <td>12.367487</td>\n",
       "      <td>0.722951</td>\n",
       "    </tr>\n",
       "    <tr>\n",
       "      <th>1304</th>\n",
       "      <td>Time flies when you ’ re following the son</td>\n",
       "      <td>sun</td>\n",
       "      <td>son</td>\n",
       "      <td>0.0</td>\n",
       "      <td>NaN</td>\n",
       "      <td>15.801228</td>\n",
       "      <td>0.438751</td>\n",
       "    </tr>\n",
       "  </tbody>\n",
       "</table>\n",
       "</div>"
      ],
      "text/plain": [
       "                                                   joke        expression1  \\\n",
       "96    A bible falling apart belongs to someone who i...              whole   \n",
       "252   When some people open their mouth they put the...  put their foot in   \n",
       "443               Il se muove , said Galileo , movingly               move   \n",
       "555                     I ' m single , Tom said wanly .             single   \n",
       "766              Act your praise , not your shoe size .             praise   \n",
       "927   They owed me a lot of money for the new house ...             billed   \n",
       "1114  Dinna wave that axe aboot , Jimmy ! said Tom h...                ask   \n",
       "1187          Drumming is not the way to catch a hare .               hare   \n",
       "1234  One Sunday afternoon the Three Musketeers play...              touch   \n",
       "1304         Time flies when you ’ re following the son                sun   \n",
       "\n",
       "            expression2  funniness_average  filtered_funniness_average  \\\n",
       "96                 hole                0.0                         NaN   \n",
       "252   put their foot in                0.0                         NaN   \n",
       "443                move                0.0                         NaN   \n",
       "555              single                0.0                         NaN   \n",
       "766               price                0.0                         NaN   \n",
       "927              billed                0.0                         NaN   \n",
       "1114                axe                0.0                         NaN   \n",
       "1187               hair                0.0                         NaN   \n",
       "1234              touch                0.0                         NaN   \n",
       "1304                son                0.0                         NaN   \n",
       "\n",
       "      euclidean_distance  cosine_similarity  \n",
       "96             15.452782           0.500384  \n",
       "252            17.106033           0.351444  \n",
       "443            16.975450           0.378536  \n",
       "555            14.464879           0.572881  \n",
       "766            14.759510           0.364477  \n",
       "927            18.850290           0.254527  \n",
       "1114           15.931807           0.426721  \n",
       "1187           15.360841           0.484867  \n",
       "1234           12.367487           0.722951  \n",
       "1304           15.801228           0.438751  "
      ]
     },
     "execution_count": 35,
     "metadata": {},
     "output_type": "execute_result"
    }
   ],
   "source": [
    "df[df.isna().any(axis=1)]"
   ]
  },
  {
   "cell_type": "code",
   "execution_count": 36,
   "id": "f4a9b9fd-3808-403c-821f-2bf793a1349d",
   "metadata": {},
   "outputs": [],
   "source": [
    "df = df.dropna()"
   ]
  },
  {
   "cell_type": "code",
   "execution_count": 37,
   "id": "7ca5a992-a223-4187-b8d1-5193bd4e654b",
   "metadata": {},
   "outputs": [
    {
     "data": {
      "text/html": [
       "<div>\n",
       "<style scoped>\n",
       "    .dataframe tbody tr th:only-of-type {\n",
       "        vertical-align: middle;\n",
       "    }\n",
       "\n",
       "    .dataframe tbody tr th {\n",
       "        vertical-align: top;\n",
       "    }\n",
       "\n",
       "    .dataframe thead th {\n",
       "        text-align: right;\n",
       "    }\n",
       "</style>\n",
       "<table border=\"1\" class=\"dataframe\">\n",
       "  <thead>\n",
       "    <tr style=\"text-align: right;\">\n",
       "      <th></th>\n",
       "      <th>joke</th>\n",
       "      <th>expression1</th>\n",
       "      <th>expression2</th>\n",
       "      <th>funniness_average</th>\n",
       "      <th>filtered_funniness_average</th>\n",
       "      <th>euclidean_distance</th>\n",
       "      <th>cosine_similarity</th>\n",
       "    </tr>\n",
       "  </thead>\n",
       "  <tbody>\n",
       "  </tbody>\n",
       "</table>\n",
       "</div>"
      ],
      "text/plain": [
       "Empty DataFrame\n",
       "Columns: [joke, expression1, expression2, funniness_average, filtered_funniness_average, euclidean_distance, cosine_similarity]\n",
       "Index: []"
      ]
     },
     "execution_count": 37,
     "metadata": {},
     "output_type": "execute_result"
    }
   ],
   "source": [
    "df[df.isna().any(axis=1)]"
   ]
  },
  {
   "cell_type": "code",
   "execution_count": 63,
   "id": "5ed39a78-e176-4799-bae2-360285eb996d",
   "metadata": {},
   "outputs": [],
   "source": [
    "subset_df = df[['euclidean_distance', 'cosine_similarity', 'funniness_average', 'filtered_funniness_average']].copy()\n",
    "\n",
    "subset_df['funniness_average_class'] = pd.cut(\n",
    "    df['funniness_average'], bins=[-0.1, 1.25, 2.50, 3.75, 5.1], labels=[1, 2, 3, 4], right=True\n",
    ")\n"
   ]
  },
  {
   "cell_type": "code",
   "execution_count": 64,
   "id": "37299992-8fab-4fa1-ab35-b217a4a53a23",
   "metadata": {},
   "outputs": [
    {
     "data": {
      "text/html": [
       "<div>\n",
       "<style scoped>\n",
       "    .dataframe tbody tr th:only-of-type {\n",
       "        vertical-align: middle;\n",
       "    }\n",
       "\n",
       "    .dataframe tbody tr th {\n",
       "        vertical-align: top;\n",
       "    }\n",
       "\n",
       "    .dataframe thead th {\n",
       "        text-align: right;\n",
       "    }\n",
       "</style>\n",
       "<table border=\"1\" class=\"dataframe\">\n",
       "  <thead>\n",
       "    <tr style=\"text-align: right;\">\n",
       "      <th></th>\n",
       "      <th>euclidean_distance</th>\n",
       "      <th>cosine_similarity</th>\n",
       "      <th>funniness_average</th>\n",
       "      <th>filtered_funniness_average</th>\n",
       "      <th>funniness_average_class</th>\n",
       "    </tr>\n",
       "  </thead>\n",
       "  <tbody>\n",
       "    <tr>\n",
       "      <th>0</th>\n",
       "      <td>12.621944</td>\n",
       "      <td>0.586709</td>\n",
       "      <td>0.6</td>\n",
       "      <td>1.000000</td>\n",
       "      <td>1</td>\n",
       "    </tr>\n",
       "    <tr>\n",
       "      <th>1</th>\n",
       "      <td>18.441320</td>\n",
       "      <td>0.247996</td>\n",
       "      <td>1.2</td>\n",
       "      <td>2.000000</td>\n",
       "      <td>1</td>\n",
       "    </tr>\n",
       "    <tr>\n",
       "      <th>2</th>\n",
       "      <td>13.749227</td>\n",
       "      <td>0.514092</td>\n",
       "      <td>1.6</td>\n",
       "      <td>1.600000</td>\n",
       "      <td>2</td>\n",
       "    </tr>\n",
       "    <tr>\n",
       "      <th>3</th>\n",
       "      <td>10.762417</td>\n",
       "      <td>0.673233</td>\n",
       "      <td>0.2</td>\n",
       "      <td>1.000000</td>\n",
       "      <td>1</td>\n",
       "    </tr>\n",
       "    <tr>\n",
       "      <th>4</th>\n",
       "      <td>16.522305</td>\n",
       "      <td>0.393078</td>\n",
       "      <td>0.4</td>\n",
       "      <td>0.666667</td>\n",
       "      <td>1</td>\n",
       "    </tr>\n",
       "    <tr>\n",
       "      <th>...</th>\n",
       "      <td>...</td>\n",
       "      <td>...</td>\n",
       "      <td>...</td>\n",
       "      <td>...</td>\n",
       "      <td>...</td>\n",
       "    </tr>\n",
       "    <tr>\n",
       "      <th>1476</th>\n",
       "      <td>11.932990</td>\n",
       "      <td>0.707570</td>\n",
       "      <td>2.0</td>\n",
       "      <td>2.000000</td>\n",
       "      <td>2</td>\n",
       "    </tr>\n",
       "    <tr>\n",
       "      <th>1477</th>\n",
       "      <td>11.955064</td>\n",
       "      <td>0.632835</td>\n",
       "      <td>0.0</td>\n",
       "      <td>0.000000</td>\n",
       "      <td>1</td>\n",
       "    </tr>\n",
       "    <tr>\n",
       "      <th>1478</th>\n",
       "      <td>17.085299</td>\n",
       "      <td>0.383086</td>\n",
       "      <td>0.0</td>\n",
       "      <td>0.000000</td>\n",
       "      <td>1</td>\n",
       "    </tr>\n",
       "    <tr>\n",
       "      <th>1479</th>\n",
       "      <td>16.785654</td>\n",
       "      <td>0.331882</td>\n",
       "      <td>0.8</td>\n",
       "      <td>1.000000</td>\n",
       "      <td>1</td>\n",
       "    </tr>\n",
       "    <tr>\n",
       "      <th>1480</th>\n",
       "      <td>16.415155</td>\n",
       "      <td>0.392778</td>\n",
       "      <td>0.6</td>\n",
       "      <td>1.500000</td>\n",
       "      <td>1</td>\n",
       "    </tr>\n",
       "  </tbody>\n",
       "</table>\n",
       "<p>1471 rows × 5 columns</p>\n",
       "</div>"
      ],
      "text/plain": [
       "      euclidean_distance  cosine_similarity  funniness_average  \\\n",
       "0              12.621944           0.586709                0.6   \n",
       "1              18.441320           0.247996                1.2   \n",
       "2              13.749227           0.514092                1.6   \n",
       "3              10.762417           0.673233                0.2   \n",
       "4              16.522305           0.393078                0.4   \n",
       "...                  ...                ...                ...   \n",
       "1476           11.932990           0.707570                2.0   \n",
       "1477           11.955064           0.632835                0.0   \n",
       "1478           17.085299           0.383086                0.0   \n",
       "1479           16.785654           0.331882                0.8   \n",
       "1480           16.415155           0.392778                0.6   \n",
       "\n",
       "      filtered_funniness_average funniness_average_class  \n",
       "0                       1.000000                       1  \n",
       "1                       2.000000                       1  \n",
       "2                       1.600000                       2  \n",
       "3                       1.000000                       1  \n",
       "4                       0.666667                       1  \n",
       "...                          ...                     ...  \n",
       "1476                    2.000000                       2  \n",
       "1477                    0.000000                       1  \n",
       "1478                    0.000000                       1  \n",
       "1479                    1.000000                       1  \n",
       "1480                    1.500000                       1  \n",
       "\n",
       "[1471 rows x 5 columns]"
      ]
     },
     "execution_count": 64,
     "metadata": {},
     "output_type": "execute_result"
    }
   ],
   "source": [
    "subset_df"
   ]
  },
  {
   "cell_type": "code",
   "execution_count": 65,
   "id": "225ceaf1-34ce-4b96-b03c-2c6eb753e93c",
   "metadata": {},
   "outputs": [],
   "source": [
    "data = subset_df[['euclidean_distance', 'cosine_similarity']]\n",
    "target = subset_df['funniness_average_class']\n",
    "#target = df['filtered_funniness_average']\n"
   ]
  },
  {
   "cell_type": "code",
   "execution_count": 66,
   "id": "2c50b8d5-d328-46e6-b671-baa1b6604a7a",
   "metadata": {},
   "outputs": [],
   "source": [
    "x_train, x_test, y_train, y_test = train_test_split(data, target, test_size=0.2, shuffle=True)\n"
   ]
  },
  {
   "cell_type": "code",
   "execution_count": 67,
   "id": "482e4787-a004-41f0-a1b1-a62f84d4dae6",
   "metadata": {},
   "outputs": [
    {
     "data": {
      "image/png": "[encoded data removed]",
      "text/plain": [
       "<Figure size 640x480 with 1 Axes>"
      ]
     },
     "metadata": {},
     "output_type": "display_data"
    }
   ],
   "source": [
    "clf = DecisionTreeClassifier()\n",
    "clf.fit(x_train, y_train)\n",
    "plot_tree(clf)\n",
    "plt.show()"
   ]
  },
  {
   "cell_type": "markdown",
   "id": "ef9dfc48-4636-486f-8d4b-54f81adbd1f1",
   "metadata": {},
   "source": [
    "### Accuracy on train dataset"
   ]
  },
  {
   "cell_type": "code",
   "execution_count": 68,
   "id": "db053cba-e981-444b-8ec1-13742e4bff34",
   "metadata": {},
   "outputs": [
    {
     "name": "stdout",
     "output_type": "stream",
     "text": [
      "Accuracy de l'ensemble de train :  1.0\n",
      "Précision :  1.0\n",
      "Recall :  1.0\n",
      "F1-score :  1.0\n",
      "Matrice de confusion :\n",
      " [[0.59438776 0.         0.        ]\n",
      " [0.         0.4005102  0.        ]\n",
      " [0.         0.         0.00510204]]\n"
     ]
    }
   ],
   "source": [
    "y_pred_train = clf.predict(x_train)\n",
    "accuracy_train = accuracy_score(y_pred_train, y_train)\n",
    "print(\"Accuracy de l'ensemble de train : \", accuracy_train)\n",
    "precision = precision_score(y_pred_train, y_train, average='weighted')\n",
    "print(\"Précision : \", precision)\n",
    "recall = recall_score(y_pred_train, y_train, average='weighted')\n",
    "print(\"Recall : \", recall)\n",
    "f1 = f1_score(y_pred_train, y_train, average='weighted')\n",
    "print(\"F1-score : \", f1)\n",
    "conf_mat = confusion_matrix(y_pred_train, y_train, normalize='all')\n",
    "print(\"Matrice de confusion :\\n\", conf_mat)"
   ]
  },
  {
   "cell_type": "markdown",
   "id": "57002e8c-f4a3-423b-bb48-6f241e0ec365",
   "metadata": {},
   "source": [
    "### Accuracy on test dataset"
   ]
  },
  {
   "cell_type": "code",
   "execution_count": 69,
   "id": "6821ff9c-784c-4c05-9013-566360e6562f",
   "metadata": {
    "scrolled": true
   },
   "outputs": [
    {
     "name": "stdout",
     "output_type": "stream",
     "text": [
      "Accuracy de l'ensemble de test :  0.49830508474576274\n",
      "Précision :  0.5033225719666398\n",
      "Recall :  0.49830508474576274\n",
      "F1-score :  0.5006427411422951\n",
      "Matrice de confusion :\n",
      " [[0.32881356 0.25762712 0.00338983]\n",
      " [0.24067797 0.16949153 0.        ]\n",
      " [0.         0.         0.        ]]\n"
     ]
    },
    {
     "name": "stderr",
     "output_type": "stream",
     "text": [
      "/home/digit/miniconda3/envs/humour/lib/python3.12/site-packages/sklearn/metrics/_classification.py:1565: UndefinedMetricWarning: Recall is ill-defined and being set to 0.0 in labels with no true samples. Use `zero_division` parameter to control this behavior.\n",
      "  _warn_prf(average, modifier, f\"{metric.capitalize()} is\", len(result))\n"
     ]
    }
   ],
   "source": [
    "y_pred_test = clf.predict(x_test)\n",
    "accuracy_test = accuracy_score(y_pred_test, y_test)\n",
    "print(\"Accuracy de l'ensemble de test : \", accuracy_test)\n",
    "precision = precision_score(y_pred_test, y_test, average='weighted')\n",
    "print(\"Précision : \", precision)\n",
    "recall = recall_score(y_pred_test, y_test, average='weighted')\n",
    "print(\"Recall : \", recall)\n",
    "f1 = f1_score(y_pred_test, y_test, average='weighted')\n",
    "print(\"F1-score : \", f1)\n",
    "conf_mat = confusion_matrix(y_pred_test, y_test, normalize='all')\n",
    "print(\"Matrice de confusion :\\n\", conf_mat)"
   ]
  },
  {
   "cell_type": "code",
   "execution_count": 70,
   "id": "e5f830a0-a55c-4608-b632-2dbee4e6e4ec",
   "metadata": {},
   "outputs": [
    {
     "name": "stdout",
     "output_type": "stream",
     "text": [
      "Accuracy de l'ensemble de test :  0.49830508474576274\n",
      "Précision :  0.49830508474576274\n",
      "Recall :  0.49830508474576274\n",
      "F1-score :  0.49830508474576274\n",
      "Matrice de confusion :\n",
      " [[0.32881356 0.25762712 0.00338983]\n",
      " [0.24067797 0.16949153 0.        ]\n",
      " [0.         0.         0.        ]]\n"
     ]
    }
   ],
   "source": [
    "y_pred_test = clf.predict(x_test)\n",
    "accuracy_test = accuracy_score(y_pred_test, y_test)\n",
    "print(\"Accuracy de l'ensemble de test : \", accuracy_test)\n",
    "precision = precision_score(y_pred_test, y_test, average='micro')\n",
    "print(\"Précision : \", precision)\n",
    "recall = recall_score(y_pred_test, y_test, average='micro')\n",
    "print(\"Recall : \", recall)\n",
    "f1 = f1_score(y_pred_test, y_test, average='micro')\n",
    "print(\"F1-score : \", f1)\n",
    "conf_mat = confusion_matrix(y_pred_test, y_test, normalize='all')\n",
    "print(\"Matrice de confusion :\\n\", conf_mat)"
   ]
  },
  {
   "cell_type": "markdown",
   "id": "912643e3-10ae-4746-8b9a-e4aa9da0b363",
   "metadata": {},
   "source": [
    "# Loop to find the optimal deepth of the tree"
   ]
  },
  {
   "cell_type": "markdown",
   "id": "9c559935-1bc0-4ed6-8435-90216192e7ce",
   "metadata": {},
   "source": [
    "<b>1. Division des données en un ensemble d'entrainement et un ensemble de test"
   ]
  },
  {
   "cell_type": "code",
   "execution_count": 74,
   "id": "88093f7c-4c72-4de0-a65e-0e4f71aef16b",
   "metadata": {},
   "outputs": [],
   "source": [
    "x_train_val, x_test, y_train_val, y_test = train_test_split(data, target, test_size=0.1, random_state=21) "
   ]
  },
  {
   "cell_type": "markdown",
   "id": "e8f62ccd-2d9b-4f90-96dd-70dad2918c3c",
   "metadata": {},
   "source": [
    "<b>Division des données d'entrainement en un ensemble d'entrainement et un ensemble de validation"
   ]
  },
  {
   "cell_type": "code",
   "execution_count": 75,
   "id": "9dd34d8b-8d63-4b8b-802e-845050327564",
   "metadata": {},
   "outputs": [],
   "source": [
    "x_train, x_val, y_train, y_val = train_test_split(x_train_val, y_train_val, test_size=0.33, random_state=42) "
   ]
  },
  {
   "cell_type": "code",
   "execution_count": 76,
   "id": "247ed2af-de46-4970-a095-9dd2b65da64a",
   "metadata": {},
   "outputs": [
    {
     "data": {
      "image/png": "[encoded data removed]",
      "text/plain": [
       "<Figure size 640x480 with 1 Axes>"
      ]
     },
     "metadata": {},
     "output_type": "display_data"
    }
   ],
   "source": [
    "list_accuracy_train = []\n",
    "list_accuracy_val = []\n",
    "\n",
    "for i in range(2,31):\n",
    "    clf =  DecisionTreeClassifier(max_leaf_nodes=i)\n",
    "    clf.fit(x_train,y_train)\n",
    "    \n",
    "    y_pred_train = clf.predict(x_train)\n",
    "    accuracy_train = accuracy_score(y_pred_train,y_train)\n",
    "    list_accuracy_train.append(accuracy_train)\n",
    "    \n",
    "    y_pred_val = clf.predict(x_val)\n",
    "    accuracy_val = accuracy_score(y_pred_val,y_val)\n",
    "    list_accuracy_val.append(accuracy_val)\n",
    "\n",
    "plt.plot(range(2,31), list_accuracy_train, label = 'entrainement')\n",
    "plt.plot(range(2,31),list_accuracy_val, label = 'validation')\n",
    "\n",
    "plt.xlabel(\"Nombre maximal de feuilles\")\n",
    "plt.ylabel(\"Accuracy\")\n",
    "plt.title(\"Accuracy en fonction du nombre maximal de feuilles de l'arbre de décision\")\n",
    "plt.legend()\n",
    "\n",
    "plt.show()"
   ]
  },
  {
   "cell_type": "code",
   "execution_count": 86,
   "id": "3dca5f49-b1ed-4e3e-bab7-bef412ad3678",
   "metadata": {},
   "outputs": [
    {
     "data": {
      "image/png": "[encoded data removed]",
      "text/plain": [
       "<Figure size 640x480 with 1 Axes>"
      ]
     },
     "metadata": {},
     "output_type": "display_data"
    },
    {
     "name": "stdout",
     "output_type": "stream",
     "text": [
      "Accuracy de l'ensemble de test :  0.5202702702702703\n",
      "Précision :  1.0\n",
      "Recall :  0.5202702702702703\n",
      "F1-score :  0.6844444444444444\n",
      "Matrice de confusion :\n",
      " [[0.52027027 0.47972973]\n",
      " [0.         0.        ]]\n"
     ]
    },
    {
     "name": "stderr",
     "output_type": "stream",
     "text": [
      "/home/digit/miniconda3/envs/humour/lib/python3.12/site-packages/sklearn/metrics/_classification.py:1565: UndefinedMetricWarning: Recall is ill-defined and being set to 0.0 in labels with no true samples. Use `zero_division` parameter to control this behavior.\n",
      "  _warn_prf(average, modifier, f\"{metric.capitalize()} is\", len(result))\n"
     ]
    }
   ],
   "source": [
    "clf = DecisionTreeClassifier(max_leaf_nodes=2)\n",
    "clf.fit(x_train, y_train)\n",
    "plot_tree(clf)\n",
    "plt.show()\n",
    "\n",
    "y_pred_test = clf.predict(x_test)\n",
    "accuracy_test = accuracy_score(y_pred_test, y_test)\n",
    "print(\"Accuracy de l'ensemble de test : \", accuracy_test)\n",
    "precision = precision_score(y_pred_test, y_test, average='weighted')\n",
    "print(\"Précision : \", precision)\n",
    "recall = recall_score(y_pred_test, y_test, average='weighted')\n",
    "print(\"Recall : \", recall)\n",
    "f1 = f1_score(y_pred_test, y_test, average='weighted')\n",
    "print(\"F1-score : \", f1)\n",
    "conf_mat = confusion_matrix(y_pred_test, y_test, normalize='all')\n",
    "print(\"Matrice de confusion :\\n\", conf_mat)"
   ]
  },
  {
   "cell_type": "code",
   "execution_count": null,
   "id": "419452ae-ea35-49ef-9851-897bd3d69f9d",
   "metadata": {},
   "outputs": [],
   "source": []
  }
 ],
 "metadata": {
  "kernelspec": {
   "display_name": "Python 3 (ipykernel)",
   "language": "python",
   "name": "python3"
  },
  "language_info": {
   "codemirror_mode": {
    "name": "ipython",
    "version": 3
   },
   "file_extension": ".py",
   "mimetype": "text/x-python",
   "name": "python",
   "nbconvert_exporter": "python",
   "pygments_lexer": "ipython3",
   "version": "3.12.8"
  }
 },
 "nbformat": 4,
 "nbformat_minor": 5
}
